{
 "cells": [
  {
   "cell_type": "markdown",
   "id": "db9be32e-c391-4226-ae5d-4a340b84a289",
   "metadata": {},
   "source": [
    "# Data Science Tools and Ecosystem"
   ]
  },
  {
   "cell_type": "markdown",
   "id": "099e2f23-a52d-4001-bca2-aa0b04c4d6a5",
   "metadata": {},
   "source": [
    "In this notebook, Data Science Tools and Ecosystem are summarized."
   ]
  },
  {
   "cell_type": "markdown",
   "id": "468e4837-8f25-441c-ac4e-da9297444380",
   "metadata": {},
   "source": [
    "Some of the popular languages that Data Scientists use are:\n",
    "1. Python\n",
    "2. R\n",
    "3. SQL\n"
   ]
  },
  {
   "cell_type": "markdown",
   "id": "2329e546-0539-4482-804e-57293de9af21",
   "metadata": {},
   "source": [
    "| Data Science Tools |\n",
    "|--------------------|\n",
    "| Jupyter Notebook   |\n",
    "| RStudio            |\n",
    "| Spyder             |\n"
   ]
  },
  {
   "cell_type": "markdown",
   "id": "a0a2defd-d085-4c1e-a3f9-b8255979a35e",
   "metadata": {},
   "source": [
    "### Below are a few examples of evaluating arithmetic expressions in Python.\n"
   ]
  },
  {
   "cell_type": "code",
   "execution_count": 10,
   "id": "070e2096-7fe6-4dfd-aa84-14848634f99a",
   "metadata": {},
   "outputs": [
    {
     "data": {
      "text/plain": [
       "17"
      ]
     },
     "execution_count": 10,
     "metadata": {},
     "output_type": "execute_result"
    }
   ],
   "source": [
    "# This a simple arithmetic expression to mutiply then add integers.\n",
    "a = (3*4)+5\n",
    "a"
   ]
  },
  {
   "cell_type": "code",
   "execution_count": 12,
   "id": "04722a07-cc10-46bc-bf6f-6acb814e0559",
   "metadata": {},
   "outputs": [
    {
     "data": {
      "text/plain": [
       "3.3333333333333335"
      ]
     },
     "execution_count": 12,
     "metadata": {},
     "output_type": "execute_result"
    }
   ],
   "source": [
    "# This will convert 200 minutes to hours by dividing by 60\n",
    "hours = 200 / 60\n",
    "hours\n"
   ]
  },
  {
   "cell_type": "markdown",
   "id": "f97bc2f7-d105-4548-afe5-b58b3be8eff3",
   "metadata": {},
   "source": [
    "**Objectives:**\n",
    "- List popular languages for Data Science.\n",
    "- List commonly used libraries for Data Science.\n",
    "- Perform arithmetic expression evaluation in Python.\n",
    "- Convert minutes to hours using Python.\n"
   ]
  },
  {
   "cell_type": "markdown",
   "id": "a76ddcd1-4493-4a96-b44e-4a0b82f4c7e8",
   "metadata": {},
   "source": [
    "## Author\n",
    "Sai Varun Kancharrla\n"
   ]
  },
  {
   "cell_type": "code",
   "execution_count": null,
   "id": "8fe30ea6-3b95-476b-826d-b1ec95fe407b",
   "metadata": {},
   "outputs": [],
   "source": []
  }
 ],
 "metadata": {
  "kernelspec": {
   "display_name": "Python [conda env:base] *",
   "language": "python",
   "name": "conda-base-py"
  },
  "language_info": {
   "codemirror_mode": {
    "name": "ipython",
    "version": 3
   },
   "file_extension": ".py",
   "mimetype": "text/x-python",
   "name": "python",
   "nbconvert_exporter": "python",
   "pygments_lexer": "ipython3",
   "version": "3.12.7"
  }
 },
 "nbformat": 4,
 "nbformat_minor": 5
}
